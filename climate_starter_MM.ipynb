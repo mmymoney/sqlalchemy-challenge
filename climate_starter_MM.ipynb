{
 "cells": [
  {
   "cell_type": "code",
   "execution_count": 1,
   "metadata": {},
   "outputs": [],
   "source": [
    "%matplotlib inline\n",
    "from matplotlib import style\n",
    "style.use('fivethirtyeight')\n",
    "import matplotlib.pyplot as plt"
   ]
  },
  {
   "cell_type": "code",
   "execution_count": 2,
   "metadata": {},
   "outputs": [],
   "source": [
    "import numpy as np\n",
    "import pandas as pd"
   ]
  },
  {
   "cell_type": "code",
   "execution_count": 145,
   "metadata": {},
   "outputs": [],
   "source": [
    "import datetime as dt\n",
    "import time"
   ]
  },
  {
   "cell_type": "markdown",
   "metadata": {},
   "source": [
    "# Reflect Tables into SQLAlchemy ORM"
   ]
  },
  {
   "cell_type": "code",
   "execution_count": 4,
   "metadata": {},
   "outputs": [],
   "source": [
    "# Python SQL toolkit and Object Relational Mapper\n",
    "import sqlalchemy\n",
    "from sqlalchemy.ext.automap import automap_base\n",
    "from sqlalchemy.orm import Session\n",
    "from sqlalchemy import create_engine, func"
   ]
  },
  {
   "cell_type": "code",
   "execution_count": 5,
   "metadata": {},
   "outputs": [],
   "source": [
    "engine = create_engine(\"sqlite:///Resources/hawaii.sqlite\")"
   ]
  },
  {
   "cell_type": "code",
   "execution_count": 6,
   "metadata": {},
   "outputs": [],
   "source": [
    "# reflect an existing database into a new model\n",
    "Base = automap_base()\n",
    "# reflect the tables\n",
    "Base.prepare(engine, reflect=True)"
   ]
  },
  {
   "cell_type": "code",
   "execution_count": 7,
   "metadata": {},
   "outputs": [
    {
     "data": {
      "text/plain": [
       "['measurement', 'station']"
      ]
     },
     "execution_count": 7,
     "metadata": {},
     "output_type": "execute_result"
    }
   ],
   "source": [
    "# We can view all of the classes that automap found\n",
    "Base.classes.keys()"
   ]
  },
  {
   "cell_type": "code",
   "execution_count": 8,
   "metadata": {},
   "outputs": [],
   "source": [
    "# Save references to each table\n",
    "Measurement = Base.classes.measurement\n",
    "Station = Base.classes.station"
   ]
  },
  {
   "cell_type": "code",
   "execution_count": 9,
   "metadata": {},
   "outputs": [],
   "source": [
    "# Create our session (link) from Python to the DB\n",
    "session = Session(engine)"
   ]
  },
  {
   "cell_type": "markdown",
   "metadata": {},
   "source": [
    "# Exploratory Climate Analysis"
   ]
  },
  {
   "cell_type": "code",
   "execution_count": 10,
   "metadata": {},
   "outputs": [
    {
     "data": {
      "text/html": [
       "<div>\n",
       "<style scoped>\n",
       "    .dataframe tbody tr th:only-of-type {\n",
       "        vertical-align: middle;\n",
       "    }\n",
       "\n",
       "    .dataframe tbody tr th {\n",
       "        vertical-align: top;\n",
       "    }\n",
       "\n",
       "    .dataframe thead th {\n",
       "        text-align: right;\n",
       "    }\n",
       "</style>\n",
       "<table border=\"1\" class=\"dataframe\">\n",
       "  <thead>\n",
       "    <tr style=\"text-align: right;\">\n",
       "      <th></th>\n",
       "      <th>prcp</th>\n",
       "    </tr>\n",
       "    <tr>\n",
       "      <th>date</th>\n",
       "      <th></th>\n",
       "    </tr>\n",
       "  </thead>\n",
       "  <tbody>\n",
       "    <tr>\n",
       "      <td>2016-08-23</td>\n",
       "      <td>0.00</td>\n",
       "    </tr>\n",
       "    <tr>\n",
       "      <td>2016-08-24</td>\n",
       "      <td>0.08</td>\n",
       "    </tr>\n",
       "    <tr>\n",
       "      <td>2016-08-25</td>\n",
       "      <td>0.08</td>\n",
       "    </tr>\n",
       "    <tr>\n",
       "      <td>2016-08-26</td>\n",
       "      <td>0.00</td>\n",
       "    </tr>\n",
       "    <tr>\n",
       "      <td>2016-08-27</td>\n",
       "      <td>0.00</td>\n",
       "    </tr>\n",
       "    <tr>\n",
       "      <td>...</td>\n",
       "      <td>...</td>\n",
       "    </tr>\n",
       "    <tr>\n",
       "      <td>2017-08-17</td>\n",
       "      <td>0.13</td>\n",
       "    </tr>\n",
       "    <tr>\n",
       "      <td>2017-08-19</td>\n",
       "      <td>0.09</td>\n",
       "    </tr>\n",
       "    <tr>\n",
       "      <td>2017-08-21</td>\n",
       "      <td>0.56</td>\n",
       "    </tr>\n",
       "    <tr>\n",
       "      <td>2017-08-22</td>\n",
       "      <td>0.50</td>\n",
       "    </tr>\n",
       "    <tr>\n",
       "      <td>2017-08-23</td>\n",
       "      <td>0.45</td>\n",
       "    </tr>\n",
       "  </tbody>\n",
       "</table>\n",
       "<p>2021 rows × 1 columns</p>\n",
       "</div>"
      ],
      "text/plain": [
       "            prcp\n",
       "date            \n",
       "2016-08-23  0.00\n",
       "2016-08-24  0.08\n",
       "2016-08-25  0.08\n",
       "2016-08-26  0.00\n",
       "2016-08-27  0.00\n",
       "...          ...\n",
       "2017-08-17  0.13\n",
       "2017-08-19  0.09\n",
       "2017-08-21  0.56\n",
       "2017-08-22  0.50\n",
       "2017-08-23  0.45\n",
       "\n",
       "[2021 rows x 1 columns]"
      ]
     },
     "execution_count": 10,
     "metadata": {},
     "output_type": "execute_result"
    }
   ],
   "source": [
    "# Design a query to retrieve the last 12 months of precipitation data and plot the results\n",
    "\n",
    "# Calculate the date 1 year ago from the last data point in the database\n",
    "\n",
    "# Perform a query to retrieve the data and precipitation scores\n",
    "\n",
    "# Save the query results as a Pandas DataFrame and set the index to the date column\n",
    "\n",
    "# Sort the dataframe by date\n",
    "\n",
    "# Use Pandas Plotting with Matplotlib to plot the data\n",
    "\n",
    "##Connect variable creation\n",
    "conn = engine.connect()\n",
    "\n",
    "#dataframe creation using read_sql function from pandas; embedded date constraint to past year\n",
    "prec_df = pd.read_sql(\"SELECT date,prcp FROM Measurement WHERE date>='2016-08-23'\",conn)\n",
    "\n",
    "#convert date to datetime type\n",
    "prec_df['date'] = pd.to_datetime(prec_df['date'])\n",
    "\n",
    "#set date column as index\n",
    "prec_df = prec_df.set_index('date')\n",
    "\n",
    "#sort by index (date)\n",
    "prec_df.sort_index(ascending=False)\n",
    "\n",
    "#drop NaNs\n",
    "prec_df.dropna()\n"
   ]
  },
  {
   "cell_type": "code",
   "execution_count": 14,
   "metadata": {},
   "outputs": [
    {
     "data": {
      "image/png": "[encoded data removed]",
      "text/plain": [
       "<Figure size 432x288 with 1 Axes>"
      ]
     },
     "metadata": {
      "needs_background": "light"
     },
     "output_type": "display_data"
    }
   ],
   "source": [
    "bar = prec_df['prcp'].plot()\n",
    "plt.xlabel('date')\n",
    "plt.ylabel('inches of precipitation')\n",
    "plt.title('Inches of Precipitation by Date (1YR)')\n",
    "plt.show()"
   ]
  },
  {
   "cell_type": "code",
   "execution_count": 15,
   "metadata": {},
   "outputs": [
    {
     "data": {
      "text/html": [
       "<div>\n",
       "<style scoped>\n",
       "    .dataframe tbody tr th:only-of-type {\n",
       "        vertical-align: middle;\n",
       "    }\n",
       "\n",
       "    .dataframe tbody tr th {\n",
       "        vertical-align: top;\n",
       "    }\n",
       "\n",
       "    .dataframe thead th {\n",
       "        text-align: right;\n",
       "    }\n",
       "</style>\n",
       "<table border=\"1\" class=\"dataframe\">\n",
       "  <thead>\n",
       "    <tr style=\"text-align: right;\">\n",
       "      <th></th>\n",
       "      <th>prcp</th>\n",
       "    </tr>\n",
       "  </thead>\n",
       "  <tbody>\n",
       "    <tr>\n",
       "      <td>count</td>\n",
       "      <td>2021.000000</td>\n",
       "    </tr>\n",
       "    <tr>\n",
       "      <td>mean</td>\n",
       "      <td>0.177279</td>\n",
       "    </tr>\n",
       "    <tr>\n",
       "      <td>std</td>\n",
       "      <td>0.461190</td>\n",
       "    </tr>\n",
       "    <tr>\n",
       "      <td>min</td>\n",
       "      <td>0.000000</td>\n",
       "    </tr>\n",
       "    <tr>\n",
       "      <td>25%</td>\n",
       "      <td>0.000000</td>\n",
       "    </tr>\n",
       "    <tr>\n",
       "      <td>50%</td>\n",
       "      <td>0.020000</td>\n",
       "    </tr>\n",
       "    <tr>\n",
       "      <td>75%</td>\n",
       "      <td>0.130000</td>\n",
       "    </tr>\n",
       "    <tr>\n",
       "      <td>max</td>\n",
       "      <td>6.700000</td>\n",
       "    </tr>\n",
       "  </tbody>\n",
       "</table>\n",
       "</div>"
      ],
      "text/plain": [
       "              prcp\n",
       "count  2021.000000\n",
       "mean      0.177279\n",
       "std       0.461190\n",
       "min       0.000000\n",
       "25%       0.000000\n",
       "50%       0.020000\n",
       "75%       0.130000\n",
       "max       6.700000"
      ]
     },
     "execution_count": 15,
     "metadata": {},
     "output_type": "execute_result"
    }
   ],
   "source": [
    "# Use Pandas to calcualte the summary statistics for the precipitation data\n",
    "prec_df.describe()"
   ]
  },
  {
   "cell_type": "code",
   "execution_count": 16,
   "metadata": {},
   "outputs": [
    {
     "data": {
      "text/html": [
       "<div>\n",
       "<style scoped>\n",
       "    .dataframe tbody tr th:only-of-type {\n",
       "        vertical-align: middle;\n",
       "    }\n",
       "\n",
       "    .dataframe tbody tr th {\n",
       "        vertical-align: top;\n",
       "    }\n",
       "\n",
       "    .dataframe thead th {\n",
       "        text-align: right;\n",
       "    }\n",
       "</style>\n",
       "<table border=\"1\" class=\"dataframe\">\n",
       "  <thead>\n",
       "    <tr style=\"text-align: right;\">\n",
       "      <th></th>\n",
       "      <th>station</th>\n",
       "      <th>count(station)</th>\n",
       "    </tr>\n",
       "  </thead>\n",
       "  <tbody>\n",
       "    <tr>\n",
       "      <td>0</td>\n",
       "      <td>USC00511918</td>\n",
       "      <td>1979</td>\n",
       "    </tr>\n",
       "    <tr>\n",
       "      <td>1</td>\n",
       "      <td>USC00513117</td>\n",
       "      <td>2709</td>\n",
       "    </tr>\n",
       "    <tr>\n",
       "      <td>2</td>\n",
       "      <td>USC00514830</td>\n",
       "      <td>2202</td>\n",
       "    </tr>\n",
       "    <tr>\n",
       "      <td>3</td>\n",
       "      <td>USC00516128</td>\n",
       "      <td>2612</td>\n",
       "    </tr>\n",
       "    <tr>\n",
       "      <td>4</td>\n",
       "      <td>USC00517948</td>\n",
       "      <td>1372</td>\n",
       "    </tr>\n",
       "    <tr>\n",
       "      <td>5</td>\n",
       "      <td>USC00518838</td>\n",
       "      <td>511</td>\n",
       "    </tr>\n",
       "    <tr>\n",
       "      <td>6</td>\n",
       "      <td>USC00519281</td>\n",
       "      <td>2772</td>\n",
       "    </tr>\n",
       "    <tr>\n",
       "      <td>7</td>\n",
       "      <td>USC00519397</td>\n",
       "      <td>2724</td>\n",
       "    </tr>\n",
       "    <tr>\n",
       "      <td>8</td>\n",
       "      <td>USC00519523</td>\n",
       "      <td>2669</td>\n",
       "    </tr>\n",
       "  </tbody>\n",
       "</table>\n",
       "</div>"
      ],
      "text/plain": [
       "       station  count(station)\n",
       "0  USC00511918            1979\n",
       "1  USC00513117            2709\n",
       "2  USC00514830            2202\n",
       "3  USC00516128            2612\n",
       "4  USC00517948            1372\n",
       "5  USC00518838             511\n",
       "6  USC00519281            2772\n",
       "7  USC00519397            2724\n",
       "8  USC00519523            2669"
      ]
     },
     "execution_count": 16,
     "metadata": {},
     "output_type": "execute_result"
    }
   ],
   "source": [
    "# Design a query to show how many stations are available in this dataset?\n",
    "\n",
    "station_df = pd.read_sql(\"SELECT station,count(station) FROM Measurement GROUP BY station\",conn)\n",
    "station_df"
   ]
  },
  {
   "cell_type": "code",
   "execution_count": 17,
   "metadata": {},
   "outputs": [
    {
     "data": {
      "text/html": [
       "<div>\n",
       "<style scoped>\n",
       "    .dataframe tbody tr th:only-of-type {\n",
       "        vertical-align: middle;\n",
       "    }\n",
       "\n",
       "    .dataframe tbody tr th {\n",
       "        vertical-align: top;\n",
       "    }\n",
       "\n",
       "    .dataframe thead th {\n",
       "        text-align: right;\n",
       "    }\n",
       "</style>\n",
       "<table border=\"1\" class=\"dataframe\">\n",
       "  <thead>\n",
       "    <tr style=\"text-align: right;\">\n",
       "      <th></th>\n",
       "      <th>station</th>\n",
       "      <th>count(station)</th>\n",
       "    </tr>\n",
       "  </thead>\n",
       "  <tbody>\n",
       "    <tr>\n",
       "      <td>6</td>\n",
       "      <td>USC00519281</td>\n",
       "      <td>2772</td>\n",
       "    </tr>\n",
       "    <tr>\n",
       "      <td>7</td>\n",
       "      <td>USC00519397</td>\n",
       "      <td>2724</td>\n",
       "    </tr>\n",
       "    <tr>\n",
       "      <td>1</td>\n",
       "      <td>USC00513117</td>\n",
       "      <td>2709</td>\n",
       "    </tr>\n",
       "    <tr>\n",
       "      <td>8</td>\n",
       "      <td>USC00519523</td>\n",
       "      <td>2669</td>\n",
       "    </tr>\n",
       "    <tr>\n",
       "      <td>3</td>\n",
       "      <td>USC00516128</td>\n",
       "      <td>2612</td>\n",
       "    </tr>\n",
       "    <tr>\n",
       "      <td>2</td>\n",
       "      <td>USC00514830</td>\n",
       "      <td>2202</td>\n",
       "    </tr>\n",
       "    <tr>\n",
       "      <td>0</td>\n",
       "      <td>USC00511918</td>\n",
       "      <td>1979</td>\n",
       "    </tr>\n",
       "    <tr>\n",
       "      <td>4</td>\n",
       "      <td>USC00517948</td>\n",
       "      <td>1372</td>\n",
       "    </tr>\n",
       "    <tr>\n",
       "      <td>5</td>\n",
       "      <td>USC00518838</td>\n",
       "      <td>511</td>\n",
       "    </tr>\n",
       "  </tbody>\n",
       "</table>\n",
       "</div>"
      ],
      "text/plain": [
       "       station  count(station)\n",
       "6  USC00519281            2772\n",
       "7  USC00519397            2724\n",
       "1  USC00513117            2709\n",
       "8  USC00519523            2669\n",
       "3  USC00516128            2612\n",
       "2  USC00514830            2202\n",
       "0  USC00511918            1979\n",
       "4  USC00517948            1372\n",
       "5  USC00518838             511"
      ]
     },
     "execution_count": 17,
     "metadata": {},
     "output_type": "execute_result"
    }
   ],
   "source": [
    "# What are the most active stations? (i.e. what stations have the most rows)?\n",
    "# List the stations and the counts in descending order.\n",
    "stationlist = []\n",
    "station_df.set_index('station')\n",
    "station_df = station_df.sort_values(by='count(station)',ascending=False)\n",
    "station_df"
   ]
  },
  {
   "cell_type": "code",
   "execution_count": 18,
   "metadata": {},
   "outputs": [
    {
     "name": "stdout",
     "output_type": "stream",
     "text": [
      "[(54.0, 85.0, 71.66378066378067)]\n"
     ]
    }
   ],
   "source": [
    "# Using the station id from the previous query, calculate the lowest temperature recorded, \n",
    "# highest temperature recorded, and average temperature of the most active station?\n",
    "temp_df = pd.read_sql(\"SELECT tobs FROM Measurement WHERE station='USC00519281'\",conn)\n",
    "low_temp = temp_df['tobs'].min()\n",
    "high_temp = temp_df['tobs'].max()\n",
    "avg_temp = temp_df['tobs'].mean()\n",
    "print([(low_temp, high_temp, avg_temp)])"
   ]
  },
  {
   "cell_type": "code",
   "execution_count": 57,
   "metadata": {},
   "outputs": [
    {
     "name": "stdout",
     "output_type": "stream",
     "text": [
      "6    USC00519281\n",
      "Name: station, dtype: object\n"
     ]
    },
    {
     "data": {
      "image/png": "[encoded data removed]",
      "text/plain": [
       "<Figure size 432x288 with 1 Axes>"
      ]
     },
     "metadata": {
      "needs_background": "light"
     },
     "output_type": "display_data"
    }
   ],
   "source": [
    "# Choose the station with the highest number of temperature observations.\n",
    "# Query the last 12 months of temperature observation data for this station and plot the results as a histogram\n",
    "temp_df_1yr_summary = pd.read_sql(\"SELECT station,count(tobs) FROM Measurement GROUP BY station\",conn)\n",
    "\n",
    "#dropna values from summary (as applicable)\n",
    "temp_df_1yr_summary.dropna()\n",
    "\n",
    "#identify highest # of observations using .max method\n",
    "high_count = temp_df_1yr_summary['count(tobs)'].max()\n",
    "\n",
    "#identify station with highest # of obs\n",
    "high_station = temp_df_1yr_summary.loc[temp_df_1yr_summary['count(tobs)'] == high_count]\n",
    "station = str(high_station['station'])\n",
    "print(station)\n",
    "\n",
    "#query last 12 months of temperature obs data for identified station and plot in a histogram (including titles and labels)\n",
    "temp_df_1yr = pd.read_sql(\"SELECT tobs FROM Measurement WHERE date>='2016-08-23' AND station = 'USC00519281'\",conn)\n",
    "hist = temp_df_1yr['tobs'].plot.hist(bins=12)\n",
    "plt.xlabel('Temperature (Degrees)')\n",
    "plt.ylabel('Frequency')\n",
    "plt.title('Histogram of Observations from Station USC00519281 (1YR)')\n",
    "plt.show()\n"
   ]
  },
  {
   "cell_type": "code",
   "execution_count": 58,
   "metadata": {},
   "outputs": [
    {
     "name": "stdout",
     "output_type": "stream",
     "text": [
      "[(62.0, 69.57142857142857, 74.0)]\n"
     ]
    }
   ],
   "source": [
    "# This function called `calc_temps` will accept start date and end date in the format '%Y-%m-%d' \n",
    "# and return the minimum, average, and maximum temperatures for that range of dates\n",
    "def calc_temps(start_date, end_date):\n",
    "    \"\"\"TMIN, TAVG, and TMAX for a list of dates.\n",
    "    \n",
    "    Args:\n",
    "        start_date (string): A date string in the format %Y-%m-%d\n",
    "        end_date (string): A date string in the format %Y-%m-%d\n",
    "        \n",
    "    Returns:\n",
    "        TMIN, TAVE, and TMAX\n",
    "    \"\"\"\n",
    "    \n",
    "    return session.query(func.min(Measurement.tobs), func.avg(Measurement.tobs), func.max(Measurement.tobs)).\\\n",
    "        filter(Measurement.date >= start_date).filter(Measurement.date <= end_date).all()\n",
    "\n",
    "# function usage example\n",
    "print(calc_temps('2012-02-28', '2012-03-05'))"
   ]
  },
  {
   "cell_type": "code",
   "execution_count": 108,
   "metadata": {},
   "outputs": [
    {
     "name": "stdout",
     "output_type": "stream",
     "text": [
      "[(56.0, 73.2457757296467, 85.0)]\n"
     ]
    }
   ],
   "source": [
    "# Use your previous function `calc_temps` to calculate the tmin, tavg, and tmax \n",
    "# for your trip using the previous year's data for those same dates.\n",
    "prior_year_tempdata = calc_temps('2014-01-01', '2015-01-01')\n",
    "print(prior_year_tempdata)"
   ]
  },
  {
   "cell_type": "code",
   "execution_count": 213,
   "metadata": {},
   "outputs": [
    {
     "data": {
      "image/png": "[encoded data removed]",
      "text/plain": [
       "<Figure size 432x288 with 1 Axes>"
      ]
     },
     "metadata": {
      "needs_background": "light"
     },
     "output_type": "display_data"
    }
   ],
   "source": [
    "# Plot the results from your previous query as a bar chart. \n",
    "# Use \"Trip Avg Temp\" as your Title\n",
    "# Use the average temperature for the y value\n",
    "# Use the peak-to-peak (tmax-tmin) value as the y error bar (yerr)\n",
    "tmax = prior_year_tempdata[0][2]\n",
    "tmin = prior_year_tempdata[0][0]\n",
    "tave = prior_year_tempdata[0][1]\n",
    "yerror = tmax-tmin\n",
    "plt.bar(0,tave,yerr=yerror,width=1)\n",
    "plt.xticks(np.arange(0,5, 1.5))\n",
    "plt.title('Trip Avg Temp')\n",
    "plt.ylabel('Temp (F)')\n",
    "plt.show()"
   ]
  },
  {
   "cell_type": "code",
   "execution_count": 131,
   "metadata": {},
   "outputs": [
    {
     "data": {
      "text/html": [
       "<div>\n",
       "<style scoped>\n",
       "    .dataframe tbody tr th:only-of-type {\n",
       "        vertical-align: middle;\n",
       "    }\n",
       "\n",
       "    .dataframe tbody tr th {\n",
       "        vertical-align: top;\n",
       "    }\n",
       "\n",
       "    .dataframe thead th {\n",
       "        text-align: right;\n",
       "    }\n",
       "</style>\n",
       "<table border=\"1\" class=\"dataframe\">\n",
       "  <thead>\n",
       "    <tr style=\"text-align: right;\">\n",
       "      <th></th>\n",
       "      <th>station</th>\n",
       "      <th>sum(Measurement.prcp)</th>\n",
       "      <th>name</th>\n",
       "      <th>latitude</th>\n",
       "      <th>longitude</th>\n",
       "      <th>elevation</th>\n",
       "    </tr>\n",
       "  </thead>\n",
       "  <tbody>\n",
       "    <tr>\n",
       "      <td>0</td>\n",
       "      <td>USC00516128</td>\n",
       "      <td>144.55</td>\n",
       "      <td>MANOA LYON ARBO 785.2, HI US</td>\n",
       "      <td>21.33310</td>\n",
       "      <td>-157.80250</td>\n",
       "      <td>152.4</td>\n",
       "    </tr>\n",
       "    <tr>\n",
       "      <td>1</td>\n",
       "      <td>USC00519281</td>\n",
       "      <td>89.85</td>\n",
       "      <td>WAIHEE 837.5, HI US</td>\n",
       "      <td>21.45167</td>\n",
       "      <td>-157.84889</td>\n",
       "      <td>32.9</td>\n",
       "    </tr>\n",
       "    <tr>\n",
       "      <td>2</td>\n",
       "      <td>USC00513117</td>\n",
       "      <td>58.42</td>\n",
       "      <td>KANEOHE 838.1, HI US</td>\n",
       "      <td>21.42340</td>\n",
       "      <td>-157.80150</td>\n",
       "      <td>14.6</td>\n",
       "    </tr>\n",
       "    <tr>\n",
       "      <td>3</td>\n",
       "      <td>USC00519523</td>\n",
       "      <td>45.93</td>\n",
       "      <td>WAIMANALO EXPERIMENTAL FARM, HI US</td>\n",
       "      <td>21.33556</td>\n",
       "      <td>-157.71139</td>\n",
       "      <td>19.5</td>\n",
       "    </tr>\n",
       "    <tr>\n",
       "      <td>4</td>\n",
       "      <td>USC00514830</td>\n",
       "      <td>39.31</td>\n",
       "      <td>KUALOA RANCH HEADQUARTERS 886.9, HI US</td>\n",
       "      <td>21.52130</td>\n",
       "      <td>-157.83740</td>\n",
       "      <td>7.0</td>\n",
       "    </tr>\n",
       "    <tr>\n",
       "      <td>5</td>\n",
       "      <td>USC00511918</td>\n",
       "      <td>21.94</td>\n",
       "      <td>HONOLULU OBSERVATORY 702.2, HI US</td>\n",
       "      <td>21.31520</td>\n",
       "      <td>-157.99920</td>\n",
       "      <td>0.9</td>\n",
       "    </tr>\n",
       "    <tr>\n",
       "      <td>6</td>\n",
       "      <td>USC00519397</td>\n",
       "      <td>21.19</td>\n",
       "      <td>WAIKIKI 717.2, HI US</td>\n",
       "      <td>21.27160</td>\n",
       "      <td>-157.81680</td>\n",
       "      <td>3.0</td>\n",
       "    </tr>\n",
       "    <tr>\n",
       "      <td>7</td>\n",
       "      <td>USC00517948</td>\n",
       "      <td>7.21</td>\n",
       "      <td>PEARL CITY, HI US</td>\n",
       "      <td>21.39340</td>\n",
       "      <td>-157.97510</td>\n",
       "      <td>11.9</td>\n",
       "    </tr>\n",
       "    <tr>\n",
       "      <td>8</td>\n",
       "      <td>USC00518838</td>\n",
       "      <td>0.51</td>\n",
       "      <td>UPPER WAHIAWA 874.3, HI US</td>\n",
       "      <td>21.49920</td>\n",
       "      <td>-158.01110</td>\n",
       "      <td>306.6</td>\n",
       "    </tr>\n",
       "  </tbody>\n",
       "</table>\n",
       "</div>"
      ],
      "text/plain": [
       "       station  sum(Measurement.prcp)                                    name  \\\n",
       "0  USC00516128                 144.55            MANOA LYON ARBO 785.2, HI US   \n",
       "1  USC00519281                  89.85                     WAIHEE 837.5, HI US   \n",
       "2  USC00513117                  58.42                    KANEOHE 838.1, HI US   \n",
       "3  USC00519523                  45.93      WAIMANALO EXPERIMENTAL FARM, HI US   \n",
       "4  USC00514830                  39.31  KUALOA RANCH HEADQUARTERS 886.9, HI US   \n",
       "5  USC00511918                  21.94       HONOLULU OBSERVATORY 702.2, HI US   \n",
       "6  USC00519397                  21.19                    WAIKIKI 717.2, HI US   \n",
       "7  USC00517948                   7.21                       PEARL CITY, HI US   \n",
       "8  USC00518838                   0.51              UPPER WAHIAWA 874.3, HI US   \n",
       "\n",
       "   latitude  longitude  elevation  \n",
       "0  21.33310 -157.80250      152.4  \n",
       "1  21.45167 -157.84889       32.9  \n",
       "2  21.42340 -157.80150       14.6  \n",
       "3  21.33556 -157.71139       19.5  \n",
       "4  21.52130 -157.83740        7.0  \n",
       "5  21.31520 -157.99920        0.9  \n",
       "6  21.27160 -157.81680        3.0  \n",
       "7  21.39340 -157.97510       11.9  \n",
       "8  21.49920 -158.01110      306.6  "
      ]
     },
     "execution_count": 131,
     "metadata": {},
     "output_type": "execute_result"
    }
   ],
   "source": [
    "# Calculate the total amount of rainfall per weather station for your trip dates using the previous year's matching dates.\n",
    "# Sort this in descending order by precipitation amount and list the station, name, latitude, longitude, and elevation\n",
    "data_all = pd.read_sql(\"SELECT Measurement.station, sum(Measurement.prcp), Station.name, Station.latitude, Station.longitude, Station.elevation FROM Measurement JOIN Station ON Measurement.station = Station.station WHERE date >='2014-01-01' and date <= '2015-01-01' GROUP BY Measurement.station\",conn)\n",
    "data_all = data_all.dropna()\n",
    "data_all = data_all.sort_values('sum(Measurement.prcp)',ascending=False)\n",
    "data_all = data_all.reset_index()\n",
    "del data_all['index']\n",
    "data_all"
   ]
  },
  {
   "cell_type": "markdown",
   "metadata": {},
   "source": [
    "## Optional Challenge Assignment"
   ]
  },
  {
   "cell_type": "code",
   "execution_count": 182,
   "metadata": {},
   "outputs": [
    {
     "data": {
      "text/plain": [
       "[(62.0, 69.15384615384616, 77.0)]"
      ]
     },
     "execution_count": 182,
     "metadata": {},
     "output_type": "execute_result"
    }
   ],
   "source": [
    "# Create a query that will calculate the daily normals \n",
    "# (i.e. the averages for tmin, tmax, and tavg for all historic data matching a specific month and day)\n",
    "\n",
    "def daily_normals(date):\n",
    "    \"\"\"Daily Normals.\n",
    "    \n",
    "    Args:\n",
    "        date (str): A date string in the format '%m-%d'\n",
    "        \n",
    "    Returns:\n",
    "        A list of tuples containing the daily normals, tmin, tavg, and tmax\n",
    "    \n",
    "    \"\"\"\n",
    "    \n",
    "    sel = func.min(Measurement.tobs), func.avg(Measurement.tobs), func.max(Measurement.tobs)\n",
    "    return session.query(*sel).filter(func.strftime(\"%m-%d\", Measurement.date) == date).all()\n",
    "    \n",
    "daily_normals(\"01-01\")"
   ]
  },
  {
   "cell_type": "code",
   "execution_count": 183,
   "metadata": {},
   "outputs": [
    {
     "name": "stdout",
     "output_type": "stream",
     "text": [
      "[[(62.0, 69.15384615384616, 77.0)], [(56.0, 68.27906976744185, 77.0)], [(63.0, 69.86363636363636, 76.0)], [(57.0, 70.29166666666667, 78.0)], [(62.0, 70.52083333333333, 77.0)], [(62.0, 71.91666666666667, 79.0)], [(63.0, 71.44680851063829, 77.0)], [(60.0, 71.75, 79.0)], [(62.0, 70.0625, 78.0)], [(61.0, 70.34693877551021, 78.0)], [(67.0, 71.1304347826087, 77.0)], [(67.0, 72.13953488372093, 78.0)], [(65.0, 72.91304347826087, 81.0)], [(67.0, 72.0, 78.0)], [(63.0, 71.28, 77.0)], [(63.0, 70.64, 77.0)], [(60.0, 69.62264150943396, 82.0)], [(62.0, 71.34, 79.0)], [(65.0, 71.18, 78.0)], [(65.0, 70.9423076923077, 80.0)], [(64.0, 70.88235294117646, 79.0)], [(64.0, 72.38775510204081, 78.0)], [(61.0, 71.24528301886792, 78.0)], [(64.0, 71.90196078431373, 80.0)], [(60.0, 70.27450980392157, 83.0)], [(58.0, 69.2, 79.0)], [(61.0, 69.3921568627451, 78.0)], [(64.0, 70.92156862745098, 78.0)], [(66.0, 72.17647058823529, 81.0)], [(67.0, 72.88679245283019, 79.0)], [(62.0, 71.32692307692308, 77.0)], [(65.0, 71.91666666666667, 78.0)], [(61.0, 71.8076923076923, 79.0)], [(62.0, 71.01960784313725, 79.0)], [(62.0, 72.75510204081633, 80.0)], [(63.0, 73.03921568627452, 78.0)], [(67.0, 73.51063829787235, 78.0)], [(63.0, 72.43181818181819, 78.0)], [(66.0, 72.56521739130434, 77.0)], [(64.0, 72.2, 80.0)], [(65.0, 71.98, 80.0)], [(66.0, 73.34, 81.0)], [(67.0, 73.03921568627452, 80.0)], [(64.0, 73.08333333333333, 81.0)], [(66.0, 73.55319148936171, 81.0)], [(64.0, 72.6923076923077, 79.0)], [(63.0, 73.50980392156863, 79.0)], [(65.0, 73.67924528301887, 79.0)], [(68.0, 74.33333333333333, 80.0)], [(61.0, 72.48979591836735, 79.0)], [(62.0, 72.78, 80.0)], [(67.0, 74.3913043478261, 80.0)], [(63.0, 72.47916666666667, 79.0)], [(67.0, 73.59615384615384, 81.0)], [(67.0, 73.75, 81.0)], [(63.0, 73.76, 80.0)], [(66.0, 74.31111111111112, 81.0)], [(64.0, 73.5576923076923, 78.0)], [(65.0, 74.0754716981132, 82.0)], [(66.0, 74.95918367346938, 82.0)], [(64.0, 74.0625, 81.0)], [(65.0, 74.86274509803921, 83.0)], [(67.0, 74.83673469387755, 80.0)], [(64.0, 74.66, 81.0)], [(68.0, 74.88679245283019, 81.0)], [(68.0, 74.75471698113208, 82.0)], [(64.0, 75.12, 81.0)], [(68.0, 75.17307692307692, 81.0)], [(68.0, 75.0, 81.0)], [(69.0, 74.98039215686275, 81.0)], [(66.0, 75.74468085106383, 84.0)], [(66.0, 74.84313725490196, 81.0)], [(66.0, 74.96078431372548, 82.0)], [(67.0, 74.79629629629629, 82.0)], [(65.0, 73.24489795918367, 81.0)], [(65.0, 75.0, 83.0)], [(65.0, 75.07843137254902, 83.0)], [(67.0, 75.59183673469387, 81.0)], [(67.0, 75.63461538461539, 82.0)], [(67.0, 75.1923076923077, 82.0)], [(65.0, 75.98039215686275, 84.0)], [(65.0, 75.75510204081633, 82.0)], [(69.0, 76.57142857142857, 84.0)], [(69.0, 75.85416666666667, 83.0)], [(69.0, 76.11363636363636, 84.0)], [(66.0, 76.3265306122449, 86.0)], [(68.0, 75.6078431372549, 81.0)], [(70.0, 75.42, 81.0)], [(67.0, 76.16666666666667, 84.0)], [(67.0, 75.86274509803921, 82.0)], [(66.0, 76.73076923076923, 84.0)], [(70.0, 76.26, 83.0)], [(69.0, 75.22916666666667, 80.0)], [(67.0, 75.3061224489796, 83.0)], [(68.0, 75.97872340425532, 83.0)], [(67.0, 76.13461538461539, 84.0)], [(68.0, 75.64, 83.0)], [(66.0, 75.64, 85.0)], [(69.0, 76.14893617021276, 83.0)], [(69.0, 77.02, 85.0)], [(67.0, 75.82692307692308, 83.0)], [(69.0, 76.37254901960785, 84.0)], [(67.0, 76.44897959183673, 84.0)], [(69.0, 76.14583333333333, 83.0)], [(68.0, 76.34693877551021, 87.0)], [(67.0, 75.85106382978724, 84.0)], [(68.0, 76.57692307692308, 83.0)], [(70.0, 77.40384615384616, 86.0)], [(67.0, 76.14, 81.0)], [(69.0, 75.98076923076923, 85.0)], [(68.0, 75.875, 82.0)], [(68.0, 75.89795918367346, 85.0)], [(70.0, 76.69565217391305, 83.0)], [(67.0, 76.61224489795919, 85.0)], [(68.0, 76.36538461538461, 84.0)], [(66.0, 76.22222222222223, 83.0)], [(64.0, 75.18, 82.0)], [(66.0, 74.91111111111111, 81.0)], [(66.0, 75.91489361702128, 84.0)], [(68.0, 76.27083333333333, 84.0)], [(69.0, 76.13725490196079, 83.0)], [(67.0, 76.66666666666667, 83.0)], [(69.0, 77.0, 82.0)], [(67.0, 76.84, 85.0)], [(68.0, 76.41666666666667, 84.0)], [(70.0, 76.23529411764706, 85.0)], [(67.0, 76.73469387755102, 86.0)], [(68.0, 76.28301886792453, 84.0)], [(71.0, 76.56862745098039, 84.0)], [(69.0, 76.96078431372548, 82.0)], [(70.0, 75.96153846153847, 84.0)], [(67.0, 76.6923076923077, 87.0)], [(69.0, 76.47169811320755, 84.0)], [(67.0, 76.4, 83.0)], [(68.0, 76.45283018867924, 82.0)], [(69.0, 75.94642857142857, 85.0)], [(70.0, 76.92307692307692, 84.0)], [(69.0, 76.125, 83.0)], [(69.0, 76.08, 83.0)], [(69.0, 76.47169811320755, 83.0)], [(71.0, 76.77777777777777, 82.0)], [(71.0, 76.98245614035088, 84.0)], [(67.0, 76.52727272727273, 83.0)], [(67.0, 75.98113207547169, 82.0)], [(65.0, 76.42, 83.0)], [(69.0, 75.98039215686275, 81.0)], [(68.0, 76.5576923076923, 83.0)], [(71.0, 77.15686274509804, 83.0)], [(67.0, 76.25, 83.0)], [(69.0, 76.14814814814815, 82.0)], [(69.0, 76.71153846153847, 84.0)], [(70.0, 76.61111111111111, 85.0)], [(68.0, 75.60377358490567, 84.0)], [(67.0, 75.54, 83.0)], [(72.0, 77.03571428571429, 83.0)], [(69.0, 77.35185185185185, 84.0)], [(69.0, 76.47058823529412, 83.0)], [(69.0, 76.46428571428571, 82.0)], [(68.0, 76.58181818181818, 83.0)], [(71.0, 76.4423076923077, 86.0)], [(67.0, 76.89090909090909, 84.0)], [(69.0, 76.55555555555556, 81.0)], [(70.0, 76.20370370370371, 84.0)], [(69.0, 75.78846153846153, 81.0)], [(69.0, 76.9245283018868, 83.0)], [(69.0, 75.46296296296296, 82.0)], [(68.0, 75.89090909090909, 83.0)], [(72.0, 76.63793103448276, 83.0)], [(70.0, 76.30188679245283, 83.0)], [(70.0, 76.34482758620689, 83.0)], [(68.0, 76.2542372881356, 82.0)], [(61.0, 76.2280701754386, 82.0)], [(69.0, 76.1896551724138, 81.0)], [(67.0, 75.96491228070175, 82.0)], [(70.0, 75.78947368421052, 81.0)], [(68.0, 75.62068965517241, 82.0)], [(68.0, 76.19298245614036, 83.0)], [(69.0, 76.08333333333333, 83.0)], [(69.0, 74.91071428571429, 82.0)], [(69.0, 75.0, 81.0)], [(66.0, 75.0, 81.0)], [(70.0, 76.57142857142857, 81.0)], [(68.0, 75.32075471698113, 87.0)], [(68.0, 75.40384615384616, 82.0)], [(67.0, 74.77777777777777, 81.0)], [(67.0, 75.59615384615384, 81.0)], [(67.0, 74.91525423728814, 80.0)], [(69.0, 74.88679245283019, 80.0)], [(66.0, 75.01785714285714, 81.0)], [(67.0, 74.21428571428571, 82.0)], [(68.0, 74.10344827586206, 80.0)], [(68.0, 74.96428571428571, 84.0)], [(68.0, 74.54385964912281, 80.0)], [(69.0, 75.15789473684211, 81.0)], [(68.0, 74.75862068965517, 82.0)], [(68.0, 73.96491228070175, 85.0)], [(70.0, 75.44067796610169, 82.0)], [(69.0, 74.60344827586206, 80.0)], [(68.0, 74.59322033898304, 81.0)], [(69.0, 75.41379310344827, 81.0)], [(67.0, 75.40350877192982, 81.0)], [(69.0, 75.62711864406779, 81.0)], [(68.0, 75.66666666666667, 81.0)], [(66.0, 75.66666666666667, 83.0)], [(69.0, 76.01960784313725, 84.0)], [(68.0, 75.14285714285714, 81.0)], [(69.0, 75.15254237288136, 81.0)], [(70.0, 75.58620689655173, 81.0)], [(68.0, 75.07142857142857, 81.0)], [(70.0, 75.17543859649123, 80.0)], [(68.0, 74.85454545454546, 81.0)], [(65.0, 73.81818181818181, 81.0)], [(65.0, 74.03448275862068, 80.0)], [(65.0, 74.4, 81.0)], [(64.0, 74.6140350877193, 81.0)], [(68.0, 74.4, 81.0)], [(69.0, 74.33333333333333, 81.0)], [(64.0, 74.19607843137256, 80.0)], [(67.0, 74.27777777777777, 82.0)], [(65.0, 74.49090909090908, 80.0)], [(65.0, 74.03636363636363, 82.0)], [(68.0, 74.27586206896552, 79.0)], [(67.0, 73.94827586206897, 79.0)], [(68.0, 74.94827586206897, 87.0)], [(64.0, 74.45614035087719, 80.0)], [(64.0, 72.96428571428571, 80.0)], [(68.0, 73.89655172413794, 79.0)], [(65.0, 73.80701754385964, 79.0)], [(68.0, 74.10714285714286, 82.0)], [(68.0, 74.45, 79.0)], [(68.0, 74.37931034482759, 80.0)], [(63.0, 73.69090909090909, 79.0)], [(63.0, 73.89285714285714, 80.0)], [(67.0, 73.14285714285714, 79.0)], [(65.0, 73.13793103448276, 79.0)], [(65.0, 73.61111111111111, 79.0)], [(64.0, 73.3157894736842, 78.0)], [(67.0, 72.9322033898305, 79.0)], [(65.0, 72.18867924528301, 80.0)], [(64.0, 71.78846153846153, 79.0)], [(66.0, 73.14035087719299, 80.0)], [(67.0, 73.39655172413794, 79.0)], [(65.0, 73.59649122807018, 78.0)], [(67.0, 73.41071428571429, 84.0)], [(65.0, 73.05084745762711, 79.0)], [(65.0, 72.75925925925925, 79.0)], [(58.0, 71.5576923076923, 78.0)], [(66.0, 73.30357142857143, 81.0)], [(63.0, 73.46428571428571, 79.0)], [(65.0, 72.87272727272727, 81.0)], [(66.0, 74.01724137931035, 81.0)], [(66.0, 73.96551724137932, 83.0)], [(67.0, 73.3103448275862, 80.0)], [(65.0, 73.01818181818182, 79.0)], [(65.0, 72.92727272727272, 84.0)], [(66.0, 72.32142857142857, 78.0)], [(64.0, 72.73684210526316, 80.0)], [(65.0, 72.42105263157895, 83.0)], [(67.0, 72.49152542372882, 77.0)], [(65.0, 71.93103448275862, 77.0)], [(62.0, 71.55357142857143, 81.0)], [(61.0, 71.79310344827586, 79.0)], [(65.0, 72.75, 81.0)], [(64.0, 71.52542372881356, 79.0)], [(65.0, 72.22413793103448, 80.0)], [(65.0, 72.49180327868852, 82.0)], [(64.0, 71.40350877192982, 79.0)], [(62.0, 71.6140350877193, 78.0)], [(66.0, 72.10526315789474, 77.0)], [(63.0, 71.10526315789474, 78.0)], [(67.0, 71.57142857142857, 77.0)], [(61.0, 72.28813559322033, 80.0)], [(58.0, 72.01639344262296, 78.0)], [(55.0, 72.2280701754386, 78.0)], [(53.0, 71.82142857142857, 79.0)], [(60.0, 71.87931034482759, 80.0)], [(61.0, 71.875, 79.0)], [(62.0, 72.17543859649123, 79.0)], [(58.0, 71.35714285714286, 77.0)], [(59.0, 71.51785714285714, 82.0)], [(63.0, 71.53846153846153, 80.0)], [(64.0, 71.38, 80.0)], [(63.0, 71.5, 78.0)], [(62.0, 71.5, 77.0)], [(63.0, 70.79629629629629, 78.0)], [(65.0, 71.75471698113208, 77.0)], [(60.0, 71.07692307692308, 77.0)], [(62.0, 70.11764705882354, 80.0)], [(60.0, 69.1, 75.0)], [(57.0, 67.7843137254902, 76.0)], [(57.0, 68.54, 75.0)], [(60.0, 69.70370370370371, 78.0)], [(58.0, 68.54716981132076, 76.0)], [(62.0, 70.32758620689656, 77.0)], [(56.0, 69.29629629629629, 77.0)], [(62.0, 69.88888888888889, 80.0)], [(60.0, 69.89285714285714, 82.0)], [(57.0, 69.12280701754386, 75.0)], [(57.0, 68.56140350877193, 75.0)], [(59.0, 68.72413793103448, 78.0)], [(60.0, 69.17241379310344, 78.0)], [(60.0, 69.20338983050847, 76.0)], [(60.0, 67.89090909090909, 76.0)], [(57.0, 69.27272727272727, 77.0)], [(60.0, 70.06896551724138, 78.0)], [(61.0, 70.36666666666666, 78.0)], [(64.0, 70.0327868852459, 76.0)], [(65.0, 70.65517241379311, 80.0)], [(58.0, 69.98148148148148, 77.0)], [(62.0, 69.89285714285714, 78.0)], [(61.0, 68.59649122807018, 76.0)], [(61.0, 68.56666666666666, 76.0)], [(62.0, 70.35593220338983, 81.0)], [(60.0, 70.15789473684211, 83.0)], [(63.0, 69.79629629629629, 76.0)], [(63.0, 70.14035087719299, 76.0)], [(60.0, 69.33962264150944, 77.0)], [(63.0, 70.79629629629629, 77.0)], [(62.0, 70.47272727272727, 77.0)], [(59.0, 70.48214285714286, 76.0)], [(56.0, 70.28813559322033, 79.0)], [(62.0, 70.89473684210526, 79.0)], [(58.0, 70.36206896551724, 80.0)], [(60.0, 69.15789473684211, 78.0)], [(61.0, 69.25, 79.0)], [(56.0, 68.41666666666667, 76.0)], [(57.0, 67.58928571428571, 75.0)], [(56.0, 66.75438596491227, 74.0)], [(60.0, 69.0, 77.0)], [(58.0, 70.38983050847457, 77.0)], [(59.0, 69.6842105263158, 80.0)], [(61.0, 68.14035087719299, 76.0)], [(58.0, 67.79661016949153, 77.0)], [(59.0, 68.85964912280701, 77.0)], [(56.0, 68.14035087719299, 78.0)], [(60.0, 68.47368421052632, 74.0)], [(60.0, 67.12962962962963, 77.0)], [(64.0, 69.14, 76.0)], [(62.0, 69.03703703703704, 77.0)], [(59.0, 68.56896551724138, 75.0)], [(61.0, 70.58620689655173, 77.0)], [(61.0, 67.94915254237289, 75.0)], [(58.0, 68.76271186440678, 78.0)], [(57.0, 69.50909090909092, 79.0)], [(60.0, 69.26415094339623, 76.0)], [(61.0, 70.14545454545454, 76.0)], [(61.0, 68.86666666666666, 78.0)], [(60.0, 68.26315789473684, 78.0)], [(57.0, 68.63157894736842, 77.0)], [(61.0, 69.07407407407408, 76.0)], [(54.0, 68.62962962962963, 80.0)], [(56.0, 69.31372549019608, 78.0)], [(58.0, 69.52631578947368, 77.0)], [(57.0, 67.25454545454545, 77.0)], [(57.0, 67.4074074074074, 81.0)], [(57.0, 67.3103448275862, 78.0)], [(62.0, 69.74137931034483, 77.0)], [(58.0, 67.9298245614035, 78.0)], [(57.0, 67.16071428571429, 75.0)], [(57.0, 68.54385964912281, 76.0)], [(61.0, 68.96491228070175, 76.0)], [(56.0, 67.96428571428571, 76.0)], [(58.0, 70.0, 76.0)], [(62.0, 68.9090909090909, 77.0)], [(60.0, 69.39622641509433, 77.0)]]\n"
     ]
    }
   ],
   "source": [
    "# calculate the daily normals for your trip\n",
    "# push each tuple of calculations into a list called `normals`\n",
    "normals = []\n",
    "month_date = []\n",
    "\n",
    "# Set the start and end date of the trip\n",
    "startdate = '01-01-2014'\n",
    "enddate = '01-01-2015'\n",
    "\n",
    "# Use the start and end date to create a range of dates\n",
    "numdays = 365\n",
    "base = dt.datetime.strptime(enddate,'%m-%d-%Y')\n",
    "date_list = [base - dt.timedelta(days=x) for x in range(numdays)]\n",
    "date_list\n",
    "\n",
    "# Stip off the year and save a list of %m-%d strings\n",
    "for x in date_list:\n",
    "    month_date.append(x.strftime('%m-%d'))\n",
    "\n",
    "# Loop through the list of %m-%d strings and calculate the normals for each date\n",
    "for combo in month_date:\n",
    "    normals.append(daily_normals(combo))\n",
    "\n",
    "print(normals)"
   ]
  },
  {
   "cell_type": "code",
   "execution_count": 197,
   "metadata": {},
   "outputs": [
    {
     "data": {
      "text/html": [
       "<div>\n",
       "<style scoped>\n",
       "    .dataframe tbody tr th:only-of-type {\n",
       "        vertical-align: middle;\n",
       "    }\n",
       "\n",
       "    .dataframe tbody tr th {\n",
       "        vertical-align: top;\n",
       "    }\n",
       "\n",
       "    .dataframe thead th {\n",
       "        text-align: right;\n",
       "    }\n",
       "</style>\n",
       "<table border=\"1\" class=\"dataframe\">\n",
       "  <thead>\n",
       "    <tr style=\"text-align: right;\">\n",
       "      <th></th>\n",
       "      <th>tmin</th>\n",
       "      <th>tavg</th>\n",
       "      <th>tmax</th>\n",
       "    </tr>\n",
       "    <tr>\n",
       "      <th>date</th>\n",
       "      <th></th>\n",
       "      <th></th>\n",
       "      <th></th>\n",
       "    </tr>\n",
       "  </thead>\n",
       "  <tbody>\n",
       "    <tr>\n",
       "      <td>2015-01-01</td>\n",
       "      <td>62.0</td>\n",
       "      <td>69.153846</td>\n",
       "      <td>77.0</td>\n",
       "    </tr>\n",
       "    <tr>\n",
       "      <td>2014-12-31</td>\n",
       "      <td>56.0</td>\n",
       "      <td>68.279070</td>\n",
       "      <td>77.0</td>\n",
       "    </tr>\n",
       "    <tr>\n",
       "      <td>2014-12-30</td>\n",
       "      <td>63.0</td>\n",
       "      <td>69.863636</td>\n",
       "      <td>76.0</td>\n",
       "    </tr>\n",
       "    <tr>\n",
       "      <td>2014-12-29</td>\n",
       "      <td>57.0</td>\n",
       "      <td>70.291667</td>\n",
       "      <td>78.0</td>\n",
       "    </tr>\n",
       "    <tr>\n",
       "      <td>2014-12-28</td>\n",
       "      <td>62.0</td>\n",
       "      <td>70.520833</td>\n",
       "      <td>77.0</td>\n",
       "    </tr>\n",
       "    <tr>\n",
       "      <td>...</td>\n",
       "      <td>...</td>\n",
       "      <td>...</td>\n",
       "      <td>...</td>\n",
       "    </tr>\n",
       "    <tr>\n",
       "      <td>2014-01-06</td>\n",
       "      <td>61.0</td>\n",
       "      <td>68.964912</td>\n",
       "      <td>76.0</td>\n",
       "    </tr>\n",
       "    <tr>\n",
       "      <td>2014-01-05</td>\n",
       "      <td>56.0</td>\n",
       "      <td>67.964286</td>\n",
       "      <td>76.0</td>\n",
       "    </tr>\n",
       "    <tr>\n",
       "      <td>2014-01-04</td>\n",
       "      <td>58.0</td>\n",
       "      <td>70.000000</td>\n",
       "      <td>76.0</td>\n",
       "    </tr>\n",
       "    <tr>\n",
       "      <td>2014-01-03</td>\n",
       "      <td>62.0</td>\n",
       "      <td>68.909091</td>\n",
       "      <td>77.0</td>\n",
       "    </tr>\n",
       "    <tr>\n",
       "      <td>2014-01-02</td>\n",
       "      <td>60.0</td>\n",
       "      <td>69.396226</td>\n",
       "      <td>77.0</td>\n",
       "    </tr>\n",
       "  </tbody>\n",
       "</table>\n",
       "<p>365 rows × 3 columns</p>\n",
       "</div>"
      ],
      "text/plain": [
       "            tmin       tavg  tmax\n",
       "date                             \n",
       "2015-01-01  62.0  69.153846  77.0\n",
       "2014-12-31  56.0  68.279070  77.0\n",
       "2014-12-30  63.0  69.863636  76.0\n",
       "2014-12-29  57.0  70.291667  78.0\n",
       "2014-12-28  62.0  70.520833  77.0\n",
       "...          ...        ...   ...\n",
       "2014-01-06  61.0  68.964912  76.0\n",
       "2014-01-05  56.0  67.964286  76.0\n",
       "2014-01-04  58.0  70.000000  76.0\n",
       "2014-01-03  62.0  68.909091  77.0\n",
       "2014-01-02  60.0  69.396226  77.0\n",
       "\n",
       "[365 rows x 3 columns]"
      ]
     },
     "execution_count": 197,
     "metadata": {},
     "output_type": "execute_result"
    }
   ],
   "source": [
    "# Load the previous query results into a Pandas DataFrame and add the `trip_dates` range as the `date` index\n",
    "normals_df1 = pd.DataFrame()\n",
    "normals_df1['date'] = date_list\n",
    "normals_df1['tmin'] = pd.DataFrame([[y[0] for y in x] for x in normals])\n",
    "normals_df1['tavg'] = pd.DataFrame([[y[1] for y in x] for x in normals])\n",
    "normals_df1['tmax'] = pd.DataFrame([[y[2] for y in x] for x in normals])\n",
    "normals_df1 = normals_df1.set_index('date')\n",
    "normals_df1"
   ]
  },
  {
   "cell_type": "code",
   "execution_count": 216,
   "metadata": {},
   "outputs": [
    {
     "data": {
      "image/png": "[encoded data removed]",
      "text/plain": [
       "<Figure size 432x288 with 1 Axes>"
      ]
     },
     "metadata": {
      "needs_background": "light"
     },
     "output_type": "display_data"
    }
   ],
   "source": [
    "area = normals_df1.plot.area(stacked=False)\n",
    "plt.xlabel('date')\n",
    "plt.ylabel('temperatures')\n",
    "plt.show()"
   ]
  },
  {
   "cell_type": "code",
   "execution_count": null,
   "metadata": {},
   "outputs": [],
   "source": []
  }
 ],
 "metadata": {
  "kernel_info": {
   "name": "python3"
  },
  "kernelspec": {
   "display_name": "Python 3",
   "language": "python",
   "name": "python3"
  },
  "language_info": {
   "codemirror_mode": {
    "name": "ipython",
    "version": 3
   },
   "file_extension": ".py",
   "mimetype": "text/x-python",
   "name": "python",
   "nbconvert_exporter": "python",
   "pygments_lexer": "ipython3",
   "version": "3.7.4"
  },
  "nteract": {
   "version": "0.12.3"
  },
  "varInspector": {
   "cols": {
    "lenName": 16,
    "lenType": 16,
    "lenVar": 40
   },
   "kernels_config": {
    "python": {
     "delete_cmd_postfix": "",
     "delete_cmd_prefix": "del ",
     "library": "var_list.py",
     "varRefreshCmd": "print(var_dic_list())"
    },
    "r": {
     "delete_cmd_postfix": ") ",
     "delete_cmd_prefix": "rm(",
     "library": "var_list.r",
     "varRefreshCmd": "cat(var_dic_list()) "
    }
   },
   "types_to_exclude": [
    "module",
    "function",
    "builtin_function_or_method",
    "instance",
    "_Feature"
   ],
   "window_display": false
  }
 },
 "nbformat": 4,
 "nbformat_minor": 2
}
